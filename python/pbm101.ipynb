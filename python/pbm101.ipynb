{
 "cells": [
  {
   "cell_type": "code",
   "execution_count": 12,
   "metadata": {},
   "outputs": [],
   "source": [
    "def f(n):\n",
    "    res = 0\n",
    "    for i in range(11):\n",
    "        res += (-n)**i\n",
    "    return res"
   ]
  },
  {
   "cell_type": "code",
   "execution_count": 13,
   "metadata": {},
   "outputs": [],
   "source": [
    "def g(n):\n",
    "    return n**3"
   ]
  },
  {
   "cell_type": "code",
   "execution_count": 65,
   "metadata": {},
   "outputs": [],
   "source": [
    "def B(xs, i, X):\n",
    "    res = 0\n",
    "    ni = 1\n",
    "    di = 1\n",
    "    for xj in [x for x in xs if x!=xs[i]]:\n",
    "        ni *= (X-xj)\n",
    "        di *= (xs[i]-xj)\n",
    "    res += ni/di\n",
    "    return res"
   ]
  },
  {
   "cell_type": "code",
   "execution_count": 66,
   "metadata": {},
   "outputs": [],
   "source": [
    "def L(xs, ys, X):\n",
    "    res = 0\n",
    "    for i in range(len(xs)):\n",
    "        res += B(xs, i, X)*ys[i]\n",
    "    return res"
   ]
  },
  {
   "cell_type": "code",
   "execution_count": null,
   "metadata": {},
   "outputs": [],
   "source": []
  },
  {
   "cell_type": "code",
   "execution_count": 69,
   "metadata": {},
   "outputs": [
    {
     "data": {
      "text/plain": [
       "58.0"
      ]
     },
     "execution_count": 69,
     "metadata": {},
     "output_type": "execute_result"
    }
   ],
   "source": [
    "L([1, 2, 3], [1, 8, 27], 4)"
   ]
  },
  {
   "cell_type": "code",
   "execution_count": 82,
   "metadata": {},
   "outputs": [
    {
     "name": "stdout",
     "output_type": "stream",
     "text": [
      "683 1.0\n",
      "44287 1365.0\n",
      "838861 130813.0\n",
      "8138021 3092453.0\n",
      "51828151 32740951.0\n",
      "247165843 205015603.0\n",
      "954437177 898165577.0\n",
      "3138105961 3093310441.0\n",
      "9090909091 9071313571.0\n",
      "23775972551 23772343751.0\n"
     ]
    }
   ],
   "source": [
    "res = 0\n",
    "for i in range(1, 11):\n",
    "    xs = list(range(1, i+1))\n",
    "    ys = [f(j) for j in xs]\n",
    "    res += L(xs, ys , i+1)\n",
    "    print(f(i+1), L(xs, ys , i+1))"
   ]
  },
  {
   "cell_type": "code",
   "execution_count": 80,
   "metadata": {},
   "outputs": [
    {
     "name": "stdout",
     "output_type": "stream",
     "text": [
      "8 1.0\n",
      "27 15.0\n",
      "64 58.0\n"
     ]
    }
   ],
   "source": [
    "res = 0\n",
    "for i in range(1, 4):\n",
    "    xs = list(range(1, i+1))\n",
    "    ys = [g(j) for j in xs]\n",
    "    res += L(xs, ys , i+1)\n",
    "    print(g(i+1), L(xs, ys , i+1))"
   ]
  },
  {
   "cell_type": "code",
   "execution_count": 83,
   "metadata": {},
   "outputs": [
    {
     "data": {
      "text/plain": [
       "37076114526.0"
      ]
     },
     "execution_count": 83,
     "metadata": {},
     "output_type": "execute_result"
    }
   ],
   "source": [
    "res"
   ]
  },
  {
   "cell_type": "code",
   "execution_count": 20,
   "metadata": {},
   "outputs": [
    {
     "data": {
      "text/plain": [
       "[range(0, 3)]"
      ]
     },
     "execution_count": 20,
     "metadata": {},
     "output_type": "execute_result"
    }
   ],
   "source": [
    "[range(3)]"
   ]
  },
  {
   "cell_type": "code",
   "execution_count": null,
   "metadata": {},
   "outputs": [],
   "source": [
    "Kn[X] => K**(n+1) evaluation P(x1) = ... = P(xn) = 0 alors (X-x1)(X-x2)"
   ]
  }
 ],
 "metadata": {
  "kernelspec": {
   "display_name": "Python 3",
   "language": "python",
   "name": "python3"
  },
  "language_info": {
   "codemirror_mode": {
    "name": "ipython",
    "version": 3
   },
   "file_extension": ".py",
   "mimetype": "text/x-python",
   "name": "python",
   "nbconvert_exporter": "python",
   "pygments_lexer": "ipython3",
   "version": "3.6.7"
  }
 },
 "nbformat": 4,
 "nbformat_minor": 2
}
